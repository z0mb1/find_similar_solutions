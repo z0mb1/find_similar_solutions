{
 "cells": [
  {
   "cell_type": "code",
   "execution_count": 75,
   "metadata": {},
   "outputs": [],
   "source": [
    "# первый вариант кода\n",
    "code = '''def drawRating(vote):\n",
    "  if vote >= 0 and vote <= 20:\n",
    "    return '★☆☆☆☆'\n",
    "  elif vote > 20 and vote <= 40:\n",
    "    return '★★☆☆☆'\n",
    "  elif vote > 40 and vote <= 60:\n",
    "    return '★★★☆☆'\n",
    "  elif vote > 60 and vote <= 80:\n",
    "    return '★★★★☆'\n",
    "  elif vote > 80 and vote <= 100:\n",
    "    return '★★★★★\\'\\n'''"
   ]
  },
  {
   "cell_type": "code",
   "execution_count": 115,
   "metadata": {},
   "outputs": [],
   "source": [
    "# второй вариант кода\n",
    "code2 = '''def drawRating(vote):\n",
    "    for vote in range(0, 21):\n",
    "        return \"★☆☆☆☆\"\n",
    "    for vote in range(20, 41):\n",
    "        return \"★★☆☆☆\"\n",
    "    for vote in range(40, 61):\n",
    "        return \"★★★☆☆\"\n",
    "    for vote in range(60, 81):\n",
    "        return \"★★★★☆\"\n",
    "    for vote in range(80, 101):\n",
    "        return \"★★★★★\"'''"
   ]
  },
  {
   "cell_type": "code",
   "execution_count": 153,
   "metadata": {},
   "outputs": [],
   "source": [
    "# первый вариант кода, в котором изменены названия функции и аргументов\n",
    "code_cheat = '''def my_new_func(v):\n",
    "  if v >= 0 and v <= 20:\n",
    "    return '★☆☆☆☆'\n",
    "  elif v > 20 and v <= 40:\n",
    "    return '★★☆☆☆'\n",
    "  elif v > 40 and v <= 60:\n",
    "    return '★★★☆☆'\n",
    "  elif v > 60 and v <= 80:\n",
    "    return '★★★★☆'\n",
    "  elif v > 80 and v <= 100:\n",
    "    return '★★★★★\\'\\n'''"
   ]
  },
  {
   "cell_type": "markdown",
   "metadata": {},
   "source": [
    "В препроцессинге <ol><li>заменяем названия функции и аргументов на одинаковые</li><li>удаляем лишние пробелы</li><li>удаляем лишний текст</li></ol>"
   ]
  },
  {
   "cell_type": "code",
   "execution_count": 145,
   "metadata": {},
   "outputs": [],
   "source": [
    "import re\n",
    "\n",
    "\n",
    "def code_preprocessing(code):\n",
    "    # одинаковое наименование функции\n",
    "    func_name = re.search(r'def\\s+(?P<function_name>.+)\\s*\\(', code).group('function_name')\n",
    "    code = re.sub(func_name, 'f_name', code) # заменяем название функции на одинаковое 'f_name'\n",
    "    # одинаковое наименование аргументов\n",
    "    args = re.search(r'def\\s+.+\\((?P<args>.+)\\)', code.strip()).group('args')\n",
    "    args = re.sub(',', '', args).split()\n",
    "    for n, arg in enumerate(args):\n",
    "        code = re.sub(arg, 'arg_{}'.format(n+1), code)\n",
    "    # удаление пробелов\n",
    "    code = re.sub(r'\\n|\\r', '', code.strip()) # удаляем переносы строки\n",
    "    code = re.sub(r'\\s+', ' ', code) # заменяем несколько пробелов одним\n",
    "    # удаляем лишние символы\n",
    "    code = re.sub(r'def\\s+', '', code)\n",
    "    # заменяем кавычки на единообразные\n",
    "    code = re.sub(r'\\'', '\\\"', code)\n",
    "    return code"
   ]
  },
  {
   "cell_type": "code",
   "execution_count": 147,
   "metadata": {
    "scrolled": true
   },
   "outputs": [
    {
     "data": {
      "text/plain": [
       "'f_name(arg_1): if arg_1 >= 0 and arg_1 <= 20: return \"★☆☆☆☆\" elif arg_1 > 20 and arg_1 <= 40: return \"★★☆☆☆\" elif arg_1 > 40 and arg_1 <= 60: return \"★★★☆☆\" elif arg_1 > 60 and arg_1 <= 80: return \"★★★★☆\" elif arg_1 > 80 and arg_1 <= 100: return \"★★★★★\"'"
      ]
     },
     "execution_count": 147,
     "metadata": {},
     "output_type": "execute_result"
    }
   ],
   "source": [
    "code_preprocessing(code)"
   ]
  },
  {
   "cell_type": "code",
   "execution_count": 148,
   "metadata": {
    "scrolled": true
   },
   "outputs": [
    {
     "data": {
      "text/plain": [
       "'f_name(arg_1): for arg_1 in range(0, 21): return \"★☆☆☆☆\" for arg_1 in range(20, 41): return \"★★☆☆☆\" for arg_1 in range(40, 61): return \"★★★☆☆\" for arg_1 in range(60, 81): return \"★★★★☆\" for arg_1 in range(80, 101): return \"★★★★★\"'"
      ]
     },
     "execution_count": 148,
     "metadata": {},
     "output_type": "execute_result"
    }
   ],
   "source": [
    "code_preprocessing(code2)"
   ]
  },
  {
   "cell_type": "code",
   "execution_count": 154,
   "metadata": {},
   "outputs": [
    {
     "data": {
      "text/plain": [
       "'f_name(arg_1): if arg_1 >= 0 and arg_1 <= 20: return \"★☆☆☆☆\" elif arg_1 > 20 and arg_1 <= 40: return \"★★☆☆☆\" elif arg_1 > 40 and arg_1 <= 60: return \"★★★☆☆\" elif arg_1 > 60 and arg_1 <= 80: return \"★★★★☆\" elif arg_1 > 80 and arg_1 <= 100: return \"★★★★★\"'"
      ]
     },
     "execution_count": 154,
     "metadata": {},
     "output_type": "execute_result"
    }
   ],
   "source": [
    "code_preprocessing(code_cheat)"
   ]
  },
  {
   "cell_type": "code",
   "execution_count": 117,
   "metadata": {},
   "outputs": [],
   "source": [
    "import numpy as np\n",
    "\n",
    "\n",
    "def edit_dist_BU(A, B):\n",
    "    n = len(A) \n",
    "    m = len(B) \n",
    "    D = np.full((n + 1, m + 1), -1)\n",
    "    for i in range(0, n+1):\n",
    "        D[i,0] = i\n",
    "    for j in range(0, m+1):\n",
    "        D[0,j] = j\n",
    "    for i in range(1, n+1):\n",
    "        for j in range(1, m+1):\n",
    "            c = 0 if A[i-1] == B[j-1] else 1\n",
    "            D[i,j] = min(D[i-1,j] + 1, D[i, j-1] + 1, D[i-1,j-1] + c) \n",
    "    return(D[i,j])"
   ]
  },
  {
   "cell_type": "markdown",
   "metadata": {},
   "source": [
    "Расстояние редактрования между разными решениями:"
   ]
  },
  {
   "cell_type": "code",
   "execution_count": 157,
   "metadata": {},
   "outputs": [
    {
     "name": "stdout",
     "output_type": "stream",
     "text": [
      "98\n"
     ]
    }
   ],
   "source": [
    "print(edit_dist_BU(code_preprocessing(code), code_preprocessing(code2)))"
   ]
  },
  {
   "cell_type": "markdown",
   "metadata": {},
   "source": [
    "Расстояние редактрования между cхожими решениями (плагиат):"
   ]
  },
  {
   "cell_type": "code",
   "execution_count": 159,
   "metadata": {
    "scrolled": true
   },
   "outputs": [
    {
     "name": "stdout",
     "output_type": "stream",
     "text": [
      "0\n"
     ]
    }
   ],
   "source": [
    "print(edit_dist_BU(code_preprocessing(code), code_preprocessing(code_cheat)))"
   ]
  }
 ],
 "metadata": {
  "kernelspec": {
   "display_name": "Python 3",
   "language": "python",
   "name": "python3"
  },
  "language_info": {
   "codemirror_mode": {
    "name": "ipython",
    "version": 3
   },
   "file_extension": ".py",
   "mimetype": "text/x-python",
   "name": "python",
   "nbconvert_exporter": "python",
   "pygments_lexer": "ipython3",
   "version": "3.7.3"
  }
 },
 "nbformat": 4,
 "nbformat_minor": 2
}
